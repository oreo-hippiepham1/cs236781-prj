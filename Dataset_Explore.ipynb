{
 "cells": [
  {
   "cell_type": "code",
   "execution_count": 2,
   "id": "bf90588e-fa7a-4b15-bef6-5d4593f2763e",
   "metadata": {
    "tags": []
   },
   "outputs": [
    {
     "data": {
      "text/plain": [
       "7"
      ]
     },
     "execution_count": 2,
     "metadata": {},
     "output_type": "execute_result"
    }
   ],
   "source": [
    "import os\n",
    "import json\n",
    "\n",
    "data_path = '/datasets/TACO-master/data'\n",
    "anno_file = 'annotations.json'\n",
    "\n",
    "with open(os.path.join(data_path, anno_file), 'r') as f:\n",
    "    anno = json.load(f)\n",
    "    \n",
    "len(anno)"
   ]
  },
  {
   "cell_type": "code",
   "execution_count": 4,
   "id": "a2d5e320-10a6-4ef7-b476-a0951c9b10df",
   "metadata": {
    "tags": []
   },
   "outputs": [
    {
     "data": {
      "text/plain": [
       "['info',\n",
       " 'images',\n",
       " 'annotations',\n",
       " 'scene_annotations',\n",
       " 'licenses',\n",
       " 'categories',\n",
       " 'scene_categories']"
      ]
     },
     "execution_count": 4,
     "metadata": {},
     "output_type": "execute_result"
    }
   ],
   "source": [
    "list(anno.keys())"
   ]
  },
  {
   "cell_type": "code",
   "execution_count": 39,
   "id": "f9343d27-098a-4a05-a68d-a854c9b4f3b1",
   "metadata": {
    "tags": []
   },
   "outputs": [
    {
     "data": {
      "text/plain": [
       "{'id': 2,\n",
       " 'width': 1537,\n",
       " 'height': 2049,\n",
       " 'file_name': 'batch_1/000010.jpg',\n",
       " 'license': None,\n",
       " 'flickr_url': 'https://farm66.staticflickr.com/65535/40888872753_08ffb24902_o.png',\n",
       " 'coco_url': None,\n",
       " 'date_captured': None,\n",
       " 'flickr_640_url': 'https://farm66.staticflickr.com/65535/40888872753_631ab0f441_z.jpg'}"
      ]
     },
     "execution_count": 39,
     "metadata": {},
     "output_type": "execute_result"
    }
   ],
   "source": [
    "anno['images'][2]"
   ]
  },
  {
   "cell_type": "code",
   "execution_count": 49,
   "id": "61640a8b-6a83-44b8-824a-b37bd30c5c39",
   "metadata": {
    "tags": []
   },
   "outputs": [],
   "source": [
    "#anno['annotations'][5]"
   ]
  },
  {
   "cell_type": "code",
   "execution_count": 48,
   "id": "874dbf86-69fc-415e-9fe5-ddd6ca26a70d",
   "metadata": {
    "tags": []
   },
   "outputs": [],
   "source": [
    "from pycocotools.coco import COCO\n"
   ]
  },
  {
   "cell_type": "code",
   "execution_count": 52,
   "id": "899e502f-b4cb-4754-9649-447f41242fdd",
   "metadata": {
    "tags": []
   },
   "outputs": [],
   "source": [
    "dataDir= '/datasets/TACO-master/data'\n",
    "dataType='val2017'\n",
    "annFile='{}/annotations.json'.format(dataDir)\n"
   ]
  },
  {
   "cell_type": "code",
   "execution_count": 53,
   "id": "c9e79633-f37b-4345-ba64-903a8b53e08e",
   "metadata": {
    "tags": []
   },
   "outputs": [
    {
     "name": "stdout",
     "output_type": "stream",
     "text": [
      "loading annotations into memory...\n",
      "Done (t=0.12s)\n",
      "creating index...\n",
      "index created!\n"
     ]
    }
   ],
   "source": [
    "coco=COCO(annFile)\n"
   ]
  },
  {
   "cell_type": "code",
   "execution_count": null,
   "id": "5a73c423-469a-49ce-a88c-ace282080123",
   "metadata": {},
   "outputs": [],
   "source": [
    "coco."
   ]
  }
 ],
 "metadata": {
  "kernelspec": {
   "display_name": "Python 3 (ipykernel)",
   "language": "python",
   "name": "python3"
  },
  "language_info": {
   "codemirror_mode": {
    "name": "ipython",
    "version": 3
   },
   "file_extension": ".py",
   "mimetype": "text/x-python",
   "name": "python",
   "nbconvert_exporter": "python",
   "pygments_lexer": "ipython3",
   "version": "3.8.12"
  }
 },
 "nbformat": 4,
 "nbformat_minor": 5
}
